{
 "cells": [
  {
   "cell_type": "markdown",
   "metadata": {},
   "source": [
    "# Disfl Assignment "
   ]
  },
  {
   "cell_type": "markdown",
   "metadata": {},
   "source": [
    "In this problem we apply the seq2seq method, treating this as a machine translation problem. Here the input data is the disfluent language, and the output is the original language. Thus we are translating the disfluent language into the original language. Recall seq2seq works by using and LSTM to encode the data first, and then another LSTM to decode it. So first we will gather the data and tokenize it. Then we will prepare the data for inputting into the model. Next we will make the model, before finally testing it out.\n",
    "\n",
    "Code and methods used here follows from https://github.com/lazyprogrammer/machine_learning_examples/blob/master/nlp_class3/wseq2seq.py and pre-trained word vectors come from http://nlp.stanford.edu/data/glove.6B.zip (using the file 'glove.6B.100d')"
   ]
  },
  {
   "cell_type": "code",
   "execution_count": 387,
   "metadata": {},
   "outputs": [],
   "source": [
    "#Importing libraries\n",
    "import numpy as np\n",
    "import json\n",
    "\n",
    "from __future__ import print_function, division\n",
    "from builtins import range, input\n",
    "\n",
    "import tensorflow as tf\n",
    "from keras.models import Model\n",
    "from keras.layers import Input, LSTM, GRU, Dense, Embedding\n",
    "from keras.preprocessing.text import Tokenizer\n",
    "from keras.preprocessing.sequence import pad_sequences\n",
    "from tensorflow.keras.utils import to_categorical\n",
    "import matplotlib.pyplot as plt"
   ]
  },
  {
   "cell_type": "code",
   "execution_count": 418,
   "metadata": {},
   "outputs": [],
   "source": [
    "# fixed variables for later use\n",
    "BATCH_SIZE = 64  # Batch size for training.\n",
    "EPOCHS = 30  # Number of epochs to train for.\n",
    "LATENT_DIM = 256  # Latent dimensionality of the encoding space.\n",
    "NUM_SAMPLES = 10000  # Number of samples to train on.\n",
    "MAX_NUM_WORDS = 20000 # probably not needed or won't be used\n",
    "EMBEDDING_DIM = 100"
   ]
  },
  {
   "cell_type": "markdown",
   "metadata": {},
   "source": [
    "## Data Processing"
   ]
  },
  {
   "cell_type": "code",
   "execution_count": 419,
   "metadata": {},
   "outputs": [],
   "source": [
    "#opening file\n",
    "with open('train.json') as f:\n",
    "    data = json.load(f)"
   ]
  },
  {
   "cell_type": "code",
   "execution_count": 420,
   "metadata": {},
   "outputs": [
    {
     "name": "stdout",
     "output_type": "stream",
     "text": [
      "7182\n"
     ]
    }
   ],
   "source": [
    "#getting list of keys for word pairs in json files\n",
    "keylist = list(data.keys())\n",
    "print(len(keylist))"
   ]
  },
  {
   "cell_type": "code",
   "execution_count": 421,
   "metadata": {},
   "outputs": [
    {
     "name": "stdout",
     "output_type": "stream",
     "text": [
      "7182\n"
     ]
    }
   ],
   "source": [
    "#putting disfluent and original strings into lists\n",
    "#Here <sos> and <eos> are tags represeting the start of sentence and end of sentence respectively\n",
    "\n",
    "input_texts = []\n",
    "target_texts = []\n",
    "target_texts_inputs = []\n",
    "\n",
    "for i in range(len(keylist)):\n",
    "    input_texts.append(data[keylist[i]]['disfluent'])\n",
    "    target_texts.append(data[keylist[i]]['original'] + ' <eos>')\n",
    "    target_texts_inputs.append('<sos> ' + data[keylist[i]]['original'])\n",
    "    \n",
    "print(len(input_texts))"
   ]
  },
  {
   "cell_type": "code",
   "execution_count": 422,
   "metadata": {},
   "outputs": [
    {
     "name": "stdout",
     "output_type": "stream",
     "text": [
      "1000\n",
      "8182\n"
     ]
    }
   ],
   "source": [
    "#Here we add the validation dataset into the same lists as above. This is because the keras model.fit function \n",
    "#will split the data into training and validation sets on it's own, using the end of the list as the validation set.\n",
    "#To get this, we set the validation_split = 1 - len(keylist)/(len(keylist)+len(vkeylist))\n",
    "\n",
    "with open('dev.json') as v:\n",
    "    vdata = json.load(v)\n",
    "    \n",
    "vkeylist = list(vdata.keys())\n",
    "\n",
    "for i in range(len(vkeylist)):\n",
    "    input_texts.append(vdata[vkeylist[i]]['disfluent'])\n",
    "    target_texts.append(vdata[vkeylist[i]]['original'] + ' <eos>')\n",
    "    target_texts_inputs.append('<sos> ' + vdata[vkeylist[i]]['original'])\n",
    "    \n",
    "print(len(vkeylist))\n",
    "print(len(input_texts))"
   ]
  },
  {
   "cell_type": "code",
   "execution_count": 423,
   "metadata": {},
   "outputs": [],
   "source": [
    "#Here we convert our input data from strings into vectors of int\n",
    "tokenizer_inputs = Tokenizer(num_words = MAX_NUM_WORDS)\n",
    "tokenizer_inputs.fit_on_texts(input_texts)\n",
    "input_sequences = tokenizer_inputs.texts_to_sequences(input_texts)"
   ]
  },
  {
   "cell_type": "code",
   "execution_count": 424,
   "metadata": {},
   "outputs": [
    {
     "name": "stdout",
     "output_type": "stream",
     "text": [
      "Found 8965 unique input tokens.\n"
     ]
    }
   ],
   "source": [
    "# Here we get the word to index mapping for input language\n",
    "word2idx_inputs = tokenizer_inputs.word_index\n",
    "print('Found %s unique input tokens.' % len(word2idx_inputs))"
   ]
  },
  {
   "cell_type": "code",
   "execution_count": 425,
   "metadata": {},
   "outputs": [
    {
     "name": "stdout",
     "output_type": "stream",
     "text": [
      "91\n"
     ]
    }
   ],
   "source": [
    "# Determine maximum length input sequence\n",
    "max_len_input = max(len(s) for s in input_sequences)\n",
    "print(max_len_input)"
   ]
  },
  {
   "cell_type": "code",
   "execution_count": 426,
   "metadata": {},
   "outputs": [],
   "source": [
    "# tokenize the outputs as well\n",
    "# Recall <sos> and <eos> are tags represeting the start of sentence and end of sentence respectively\n",
    "tokenizer_outputs = Tokenizer(num_words=MAX_NUM_WORDS, filters='')\n",
    "tokenizer_outputs.fit_on_texts(target_texts + target_texts_inputs) # inefficient, oh well\n",
    "\n",
    "target_sequences = tokenizer_outputs.texts_to_sequences(target_texts)\n",
    "target_sequences_inputs = tokenizer_outputs.texts_to_sequences(target_texts_inputs)"
   ]
  },
  {
   "cell_type": "code",
   "execution_count": 427,
   "metadata": {},
   "outputs": [
    {
     "name": "stdout",
     "output_type": "stream",
     "text": [
      "Found 10414 unique output tokens.\n"
     ]
    }
   ],
   "source": [
    "# Here we get the word to index mapping for output language\n",
    "word2idx_outputs = tokenizer_outputs.word_index\n",
    "print('Found %s unique output tokens.' % len(word2idx_outputs))"
   ]
  },
  {
   "cell_type": "code",
   "execution_count": 428,
   "metadata": {},
   "outputs": [],
   "source": [
    "# store number of output words for later\n",
    "# Adding 1 since indexing starts at 1 here\n",
    "num_words_output = len(word2idx_outputs) + 1"
   ]
  },
  {
   "cell_type": "code",
   "execution_count": 429,
   "metadata": {},
   "outputs": [
    {
     "name": "stdout",
     "output_type": "stream",
     "text": [
      "30\n"
     ]
    }
   ],
   "source": [
    "# determine maximum length output sequence\n",
    "max_len_target = max(len(s) for s in target_sequences)\n",
    "print(max_len_target)"
   ]
  },
  {
   "cell_type": "code",
   "execution_count": 430,
   "metadata": {},
   "outputs": [
    {
     "name": "stdout",
     "output_type": "stream",
     "text": [
      "encoder_inputs.shape: (8182, 91)\n",
      "encoder_inputs[0]: [   0    0    0    0    0    0    0    0    0    0    0    0    0    0\n",
      "    0    0    0    0    0    0    0    0    0    0    0    0    0    0\n",
      "    0    0    0    0    0    0    0    0    0    0    0    0    0    0\n",
      "    0    0    0    0    0    0    0    0    0    0    0    0    0    0\n",
      "    0    0    0    0    0    0    0    0    0    0    0    0    0    0\n",
      "    0    0    0    0    0    0    0    0    0    0    0    2   27 1023\n",
      "    3    2   27 5981 2305  361 3308]\n"
     ]
    }
   ],
   "source": [
    "# pad the sequences for the seq2seq method\n",
    "encoder_inputs = pad_sequences(input_sequences, maxlen=max_len_input)\n",
    "\n",
    "#displaying an example\n",
    "print(\"encoder_inputs.shape:\", encoder_inputs.shape)\n",
    "print(\"encoder_inputs[0]:\", encoder_inputs[0])"
   ]
  },
  {
   "cell_type": "code",
   "execution_count": 431,
   "metadata": {},
   "outputs": [
    {
     "name": "stdout",
     "output_type": "stream",
     "text": [
      "decoder_inputs.shape: (8182, 30)\n",
      "decoder_inputs[0]: [   4    2   19 5993 2823  457 2824    0    0    0    0    0    0    0\n",
      "    0    0    0    0    0    0    0    0    0    0    0    0    0    0\n",
      "    0    0]\n"
     ]
    }
   ],
   "source": [
    "# padding for decoder as well\n",
    "decoder_inputs = pad_sequences(target_sequences_inputs, maxlen=max_len_target, padding='post')\n",
    "print(\"decoder_inputs.shape:\", decoder_inputs.shape)\n",
    "print(\"decoder_inputs[0]:\", decoder_inputs[0])"
   ]
  },
  {
   "cell_type": "code",
   "execution_count": 432,
   "metadata": {},
   "outputs": [
    {
     "name": "stdout",
     "output_type": "stream",
     "text": [
      "decoder_targets.shape: (8182, 30)\n",
      "decoder_targets[0]: [   4    2   19 5993 2823  457 2824    0    0    0    0    0    0    0\n",
      "    0    0    0    0    0    0    0    0    0    0    0    0    0    0\n",
      "    0    0]\n"
     ]
    }
   ],
   "source": [
    "decoder_targets = pad_sequences(target_sequences, maxlen=max_len_target, padding='post')\n",
    "print(\"decoder_targets.shape:\", decoder_inputs.shape)\n",
    "print(\"decoder_targets[0]:\", decoder_inputs[0])"
   ]
  },
  {
   "cell_type": "code",
   "execution_count": 433,
   "metadata": {},
   "outputs": [
    {
     "name": "stdout",
     "output_type": "stream",
     "text": [
      "Loading word vectors...\n",
      "Found 400000 word vectors.\n"
     ]
    }
   ],
   "source": [
    "# load in pre-trained word vectors\n",
    "# These are pre-trained workd vectors from http://nlp.stanford.edu/data/glove.6B.zip\n",
    "print('Loading word vectors...')\n",
    "word2vec = {}\n",
    "with open('glove.6B.%sd.txt' % EMBEDDING_DIM, encoding = 'UTF-8') as f:\n",
    "  # is just a space-separated text file in the format:\n",
    "  # word vec[0] vec[1] vec[2] ...\n",
    "  for line in f:\n",
    "    values = line.split()\n",
    "    word = values[0]\n",
    "    vec = np.asarray(values[1:], dtype='float32')\n",
    "    word2vec[word] = vec\n",
    "print('Found %s word vectors.' % len(word2vec))"
   ]
  },
  {
   "cell_type": "code",
   "execution_count": 434,
   "metadata": {},
   "outputs": [
    {
     "name": "stdout",
     "output_type": "stream",
     "text": [
      "Filling pre-trained embeddings...\n"
     ]
    }
   ],
   "source": [
    "# prepare embedding matrix for first layer of LSTM\n",
    "print('Filling pre-trained embeddings...')\n",
    "num_words = min(MAX_NUM_WORDS, len(word2idx_inputs) + 1)\n",
    "\n",
    "# just a matrix of zeros here\n",
    "embedding_matrix = np.zeros((num_words, EMBEDDING_DIM))\n",
    "\n",
    "for word, i in word2idx_inputs.items():\n",
    "  if i < MAX_NUM_WORDS:\n",
    "    embedding_vector = word2vec.get(word)\n",
    "    if embedding_vector is not None:\n",
    "      # words not found in embedding index will be all zeros.\n",
    "      embedding_matrix[i] = embedding_vector"
   ]
  },
  {
   "cell_type": "code",
   "execution_count": 435,
   "metadata": {},
   "outputs": [],
   "source": [
    "# create embedding layer\n",
    "embedding_layer = Embedding(\n",
    "  num_words,\n",
    "  EMBEDDING_DIM,\n",
    "  weights=[embedding_matrix],\n",
    "  input_length=max_len_input,\n",
    ")"
   ]
  },
  {
   "cell_type": "code",
   "execution_count": 436,
   "metadata": {},
   "outputs": [],
   "source": [
    "# create targets, one-hot encoding\n",
    "# since categorical cross entropy wont work here (for sequences)\n",
    "decoder_targets_one_hot = np.zeros(\n",
    "  (\n",
    "    len(input_texts),\n",
    "    max_len_target,\n",
    "    num_words_output\n",
    "  ),\n",
    "  dtype='uint8'\n",
    ")\n",
    "\n",
    "# assign the values\n",
    "for i, d in enumerate(decoder_targets):\n",
    "  for t, word in enumerate(d):\n",
    "    if word != 0:\n",
    "      decoder_targets_one_hot[i, t, word] = 1"
   ]
  },
  {
   "cell_type": "code",
   "execution_count": 437,
   "metadata": {},
   "outputs": [],
   "source": [
    "encoder_inputs_placeholder = Input(shape=(max_len_input,))\n",
    "x = embedding_layer(encoder_inputs_placeholder)\n",
    "encoder = LSTM(\n",
    "  LATENT_DIM,\n",
    "  return_state=True,\n",
    "  dropout=0.6 # dropout to help with overfitting\n",
    ")"
   ]
  },
  {
   "cell_type": "code",
   "execution_count": 438,
   "metadata": {},
   "outputs": [],
   "source": [
    "encoder_outputs, h, c = encoder(x)\n",
    "# encoder_outputs, h = encoder(x) #gru"
   ]
  },
  {
   "cell_type": "code",
   "execution_count": 439,
   "metadata": {},
   "outputs": [],
   "source": [
    "# keep only the states to pass into decoder\n",
    "encoder_states = [h, c]"
   ]
  },
  {
   "cell_type": "code",
   "execution_count": 440,
   "metadata": {},
   "outputs": [],
   "source": [
    "# Set up the decoder, using [h, c] as initial state.\n",
    "decoder_inputs_placeholder = Input(shape=(max_len_target,))"
   ]
  },
  {
   "cell_type": "code",
   "execution_count": 441,
   "metadata": {},
   "outputs": [],
   "source": [
    "decoder_embedding = Embedding(num_words_output, EMBEDDING_DIM)\n",
    "decoder_inputs_x = decoder_embedding(decoder_inputs_placeholder)"
   ]
  },
  {
   "cell_type": "code",
   "execution_count": 442,
   "metadata": {},
   "outputs": [],
   "source": [
    "# since the decoder is a \"to-many\" model we want to have\n",
    "# return_sequences=True\n",
    "decoder_lstm = LSTM(\n",
    "  LATENT_DIM,\n",
    "  return_sequences=True,\n",
    "  return_state=True,\n",
    "  dropout=0.6 # dropout to prevent overfitting\n",
    ")"
   ]
  },
  {
   "cell_type": "code",
   "execution_count": 443,
   "metadata": {},
   "outputs": [],
   "source": [
    "decoder_outputs, _, _ = decoder_lstm(\n",
    "  decoder_inputs_x,\n",
    "  initial_state=encoder_states\n",
    ")"
   ]
  },
  {
   "cell_type": "code",
   "execution_count": 444,
   "metadata": {},
   "outputs": [],
   "source": [
    "# final dense layer for predictions\n",
    "decoder_dense = Dense(num_words_output, activation='softmax')\n",
    "decoder_outputs = decoder_dense(decoder_outputs)"
   ]
  },
  {
   "cell_type": "code",
   "execution_count": 445,
   "metadata": {},
   "outputs": [],
   "source": [
    "# Create the model object\n",
    "model = Model([encoder_inputs_placeholder, decoder_inputs_placeholder], decoder_outputs)"
   ]
  },
  {
   "cell_type": "markdown",
   "metadata": {},
   "source": [
    "Adam is chosen arbitrarily as it is known to typically be good."
   ]
  },
  {
   "cell_type": "code",
   "execution_count": 446,
   "metadata": {},
   "outputs": [],
   "source": [
    "# Modifying learning rate for speed\n",
    "model.compile(optimizer=tf.keras.optimizers.RMSprop(learning_rate=0.001), loss='categorical_crossentropy', metrics=['accuracy'])"
   ]
  },
  {
   "cell_type": "code",
   "execution_count": 447,
   "metadata": {},
   "outputs": [
    {
     "name": "stdout",
     "output_type": "stream",
     "text": [
      "Epoch 1/30\n",
      "113/113 [==============================] - 83s 698ms/step - loss: 2.4400 - accuracy: 0.0546 - val_loss: 2.3492 - val_accuracy: 0.0576\n",
      "Epoch 2/30\n",
      "113/113 [==============================] - 78s 687ms/step - loss: 2.3434 - accuracy: 0.0636 - val_loss: 2.3398 - val_accuracy: 0.0659\n",
      "Epoch 3/30\n",
      "113/113 [==============================] - 78s 688ms/step - loss: 2.3105 - accuracy: 0.0666 - val_loss: 2.3325 - val_accuracy: 0.0682\n",
      "Epoch 4/30\n",
      "113/113 [==============================] - 78s 687ms/step - loss: 2.2868 - accuracy: 0.0681 - val_loss: 2.3233 - val_accuracy: 0.0706\n",
      "Epoch 5/30\n",
      "113/113 [==============================] - 78s 688ms/step - loss: 2.2681 - accuracy: 0.0726 - val_loss: 2.3021 - val_accuracy: 0.0762\n",
      "Epoch 6/30\n",
      "113/113 [==============================] - 78s 687ms/step - loss: 2.2436 - accuracy: 0.0755 - val_loss: 2.2809 - val_accuracy: 0.0792\n",
      "Epoch 7/30\n",
      "113/113 [==============================] - 78s 687ms/step - loss: 2.2169 - accuracy: 0.0778 - val_loss: 2.2526 - val_accuracy: 0.0804\n",
      "Epoch 8/30\n",
      "113/113 [==============================] - 77s 685ms/step - loss: 2.1871 - accuracy: 0.0811 - val_loss: 2.2507 - val_accuracy: 0.0823\n",
      "Epoch 9/30\n",
      "113/113 [==============================] - 77s 684ms/step - loss: 2.1599 - accuracy: 0.0849 - val_loss: 2.2086 - val_accuracy: 0.0893\n",
      "Epoch 10/30\n",
      "113/113 [==============================] - 78s 686ms/step - loss: 2.1316 - accuracy: 0.0890 - val_loss: 2.1972 - val_accuracy: 0.0931\n",
      "Epoch 11/30\n",
      "113/113 [==============================] - 78s 691ms/step - loss: 2.1039 - accuracy: 0.0931 - val_loss: 2.1696 - val_accuracy: 0.0993\n",
      "Epoch 12/30\n",
      "113/113 [==============================] - 78s 688ms/step - loss: 2.0714 - accuracy: 0.0974 - val_loss: 2.1519 - val_accuracy: 0.0988\n",
      "Epoch 13/30\n",
      "113/113 [==============================] - 77s 685ms/step - loss: 2.0425 - accuracy: 0.1007 - val_loss: 2.1256 - val_accuracy: 0.1042\n",
      "Epoch 14/30\n",
      "113/113 [==============================] - 79s 698ms/step - loss: 2.0124 - accuracy: 0.1040 - val_loss: 2.1169 - val_accuracy: 0.1059\n",
      "Epoch 15/30\n",
      "113/113 [==============================] - 79s 697ms/step - loss: 1.9824 - accuracy: 0.1068 - val_loss: 2.0992 - val_accuracy: 0.1105\n",
      "Epoch 16/30\n",
      "113/113 [==============================] - 78s 694ms/step - loss: 1.9535 - accuracy: 0.1097 - val_loss: 2.0773 - val_accuracy: 0.1133\n",
      "Epoch 17/30\n",
      "113/113 [==============================] - 78s 691ms/step - loss: 1.9245 - accuracy: 0.1119 - val_loss: 2.0660 - val_accuracy: 0.1147\n",
      "Epoch 18/30\n",
      "113/113 [==============================] - 77s 686ms/step - loss: 1.8961 - accuracy: 0.1149 - val_loss: 2.0361 - val_accuracy: 0.1170\n",
      "Epoch 19/30\n",
      "113/113 [==============================] - 77s 686ms/step - loss: 1.8665 - accuracy: 0.1170 - val_loss: 2.0294 - val_accuracy: 0.1189\n",
      "Epoch 20/30\n",
      "113/113 [==============================] - 78s 689ms/step - loss: 1.8391 - accuracy: 0.1189 - val_loss: 2.0147 - val_accuracy: 0.1211\n",
      "Epoch 21/30\n",
      "113/113 [==============================] - 77s 685ms/step - loss: 1.8110 - accuracy: 0.1210 - val_loss: 1.9983 - val_accuracy: 0.1220\n",
      "Epoch 22/30\n",
      "113/113 [==============================] - 78s 687ms/step - loss: 1.7832 - accuracy: 0.1224 - val_loss: 1.9806 - val_accuracy: 0.1249\n",
      "Epoch 23/30\n",
      "113/113 [==============================] - 78s 689ms/step - loss: 1.7554 - accuracy: 0.1247 - val_loss: 1.9736 - val_accuracy: 0.1252\n",
      "Epoch 24/30\n",
      "113/113 [==============================] - 78s 686ms/step - loss: 1.7289 - accuracy: 0.1262 - val_loss: 1.9686 - val_accuracy: 0.1257\n",
      "Epoch 25/30\n",
      "113/113 [==============================] - 77s 685ms/step - loss: 1.7029 - accuracy: 0.1276 - val_loss: 1.9704 - val_accuracy: 0.1257\n",
      "Epoch 26/30\n",
      "113/113 [==============================] - 78s 687ms/step - loss: 1.6780 - accuracy: 0.1291 - val_loss: 1.9437 - val_accuracy: 0.1288\n",
      "Epoch 27/30\n",
      "113/113 [==============================] - 80s 704ms/step - loss: 1.6514 - accuracy: 0.1311 - val_loss: 1.9281 - val_accuracy: 0.1299\n",
      "Epoch 28/30\n",
      "113/113 [==============================] - 84s 743ms/step - loss: 1.6278 - accuracy: 0.1322 - val_loss: 1.9249 - val_accuracy: 0.1308\n",
      "Epoch 29/30\n",
      "113/113 [==============================] - 81s 717ms/step - loss: 1.6031 - accuracy: 0.1336 - val_loss: 1.9215 - val_accuracy: 0.1303\n",
      "Epoch 30/30\n",
      "113/113 [==============================] - 82s 722ms/step - loss: 1.5804 - accuracy: 0.1357 - val_loss: 1.9070 - val_accuracy: 0.1325\n"
     ]
    }
   ],
   "source": [
    "#this is the propoe validation split to get the validation set to be the data from the dev.json file\n",
    "validation_split = 1 - len(keylist)/(len(vkeylist)+len(keylist))\n",
    "\n",
    "r = model.fit(\n",
    "  [encoder_inputs, decoder_inputs], decoder_targets_one_hot,\n",
    "  batch_size=BATCH_SIZE,\n",
    "  epochs=EPOCHS,\n",
    "  validation_split=validation_split,\n",
    ")"
   ]
  },
  {
   "cell_type": "code",
   "execution_count": 448,
   "metadata": {},
   "outputs": [
    {
     "data": {
      "image/png": "[encoded data removed]",
      "text/plain": [
       "<Figure size 432x288 with 1 Axes>"
      ]
     },
     "metadata": {
      "needs_background": "light"
     },
     "output_type": "display_data"
    },
    {
     "data": {
      "image/png": "[encoded data removed]",
      "text/plain": [
       "<Figure size 432x288 with 1 Axes>"
      ]
     },
     "metadata": {
      "needs_background": "light"
     },
     "output_type": "display_data"
    }
   ],
   "source": [
    "# plotting loss\n",
    "plt.plot(r.history['loss'], label='loss')\n",
    "plt.plot(r.history['val_loss'], label='val_loss')\n",
    "plt.legend()\n",
    "plt.show()\n",
    "\n",
    "# plotting accuracies\n",
    "plt.plot(r.history['accuracy'], label='acc')\n",
    "plt.plot(r.history['val_accuracy'], label='val_acc')\n",
    "plt.legend()\n",
    "plt.show()"
   ]
  },
  {
   "cell_type": "markdown",
   "metadata": {},
   "source": [
    "#### Now we make predictions to see how well the model works."
   ]
  },
  {
   "cell_type": "code",
   "execution_count": 449,
   "metadata": {},
   "outputs": [],
   "source": [
    "encoder_model = Model(encoder_inputs_placeholder, encoder_states)"
   ]
  },
  {
   "cell_type": "code",
   "execution_count": 450,
   "metadata": {},
   "outputs": [],
   "source": [
    "decoder_state_input_h = Input(shape=(LATENT_DIM,))\n",
    "decoder_state_input_c = Input(shape=(LATENT_DIM,))\n",
    "decoder_states_inputs = [decoder_state_input_h, decoder_state_input_c]\n",
    "# decoder_states_inputs = [decoder_state_input_h] # gru"
   ]
  },
  {
   "cell_type": "code",
   "execution_count": 451,
   "metadata": {},
   "outputs": [],
   "source": [
    "decoder_inputs_single = Input(shape=(1,))\n",
    "decoder_inputs_single_x = decoder_embedding(decoder_inputs_single)"
   ]
  },
  {
   "cell_type": "code",
   "execution_count": 452,
   "metadata": {},
   "outputs": [],
   "source": [
    "# this time, we want to keep the states too, to be output\n",
    "# by our sampling model\n",
    "decoder_outputs, h, c = decoder_lstm(\n",
    "  decoder_inputs_single_x,\n",
    "  initial_state=decoder_states_inputs\n",
    ")"
   ]
  },
  {
   "cell_type": "code",
   "execution_count": 453,
   "metadata": {},
   "outputs": [],
   "source": [
    "decoder_states = [h, c]\n",
    "\n",
    "decoder_outputs = decoder_dense(decoder_outputs)"
   ]
  },
  {
   "cell_type": "code",
   "execution_count": 454,
   "metadata": {},
   "outputs": [],
   "source": [
    "# The sampling model\n",
    "# inputs: y(t-1), h(t-1), c(t-1)\n",
    "# outputs: y(t), h(t), c(t)\n",
    "decoder_model = Model(\n",
    "  [decoder_inputs_single] + decoder_states_inputs, \n",
    "  [decoder_outputs] + decoder_states\n",
    ")"
   ]
  },
  {
   "cell_type": "code",
   "execution_count": 455,
   "metadata": {},
   "outputs": [],
   "source": [
    "# map indexes back into real words\n",
    "# so we can view the results i.e. map id's back to words for reading\n",
    "idx2word_eng = {v:k for k, v in word2idx_inputs.items()}\n",
    "idx2word_trans = {v:k for k, v in word2idx_outputs.items()}"
   ]
  },
  {
   "cell_type": "code",
   "execution_count": 456,
   "metadata": {},
   "outputs": [],
   "source": [
    "def decode_sequence(input_seq):\n",
    "  # Encode the input as state vectors.\n",
    "  states_value = encoder_model.predict(input_seq)\n",
    "\n",
    "  # Generate empty target sequence of length 1.\n",
    "  target_seq = np.zeros((1, 1))\n",
    "\n",
    "  # Populate the first character of target sequence with the start character.\n",
    "  # NOTE: tokenizer lower-cases all words\n",
    "  target_seq[0, 0] = word2idx_outputs['<sos>']\n",
    "\n",
    "  # if we get this we break\n",
    "  eos = word2idx_outputs['<eos>']\n",
    "\n",
    "  # Create the translation\n",
    "  output_sentence = []\n",
    "  for _ in range(max_len_target):\n",
    "    output_tokens, h, c = decoder_model.predict(\n",
    "      [target_seq] + states_value\n",
    "    )\n",
    "\n",
    "    # Get next word, predicting with the 'greedy' approach in argmax\n",
    "    idx = np.argmax(output_tokens[0, 0, :])\n",
    "\n",
    "    # End sentence of EOS\n",
    "    if eos == idx:\n",
    "      break\n",
    "\n",
    "    word = ''\n",
    "    if idx > 0:\n",
    "      word = idx2word_trans[idx]\n",
    "      output_sentence.append(word)\n",
    "\n",
    "    # Update the decoder input\n",
    "    # which is just the word just generated\n",
    "    target_seq[0, 0] = idx\n",
    "\n",
    "    # Update states\n",
    "    states_value = [h, c]\n",
    "\n",
    "  return ' '.join(output_sentence)"
   ]
  },
  {
   "cell_type": "markdown",
   "metadata": {},
   "source": [
    "Now we test our model on random samples."
   ]
  },
  {
   "cell_type": "code",
   "execution_count": 457,
   "metadata": {},
   "outputs": [
    {
     "name": "stdout",
     "output_type": "stream",
     "text": [
      "-\n",
      "Input: What do NK cells protect no wait I meant to say that Natural killer cells recognize cells that should be targeted by a condition known as what?\n",
      "Translation: when can not t t cells that cells that cells that can be be\n",
      "Continue? [Y/n]y\n",
      "-\n",
      "Input: What was, or rather, the North saw the South as what?\n",
      "Translation: the second first was in the\n",
      "Continue? [Y/n]y\n",
      "-\n",
      "Input: What guide states Harvard is known for their heavy workload and academic difficulty, actually it's the University of Chicago?\n",
      "Translation: what is a term for the important for a and and the\n",
      "Continue? [Y/n]y\n",
      "-\n",
      "Input: How or I mean what is volume normally as concentrated as?\n",
      "Translation: what is another thing for a\n",
      "Continue? [Y/n]y\n",
      "-\n",
      "Input: During which years was the plague present in Islamic countries or wait in what year did the residents of Baghdad first become affected by the plague?\n",
      "Translation: in what year did the university of the university in the rhine\n",
      "Continue? [Y/n]y\n",
      "-\n",
      "Input: Governor Robert Dinwiddie had an investment in what military no significant company?\n",
      "Translation: le was to the investment in what\n",
      "Continue? [Y/n]n\n"
     ]
    }
   ],
   "source": [
    "while True:\n",
    "  # Do some test translations\n",
    "  i = np.random.choice(len(input_texts))\n",
    "  input_seq = encoder_inputs[i:i+1]\n",
    "  translation = decode_sequence(input_seq)\n",
    "  print('-')\n",
    "  print('Input:', input_texts[i])\n",
    "  print('Translation:', translation)\n",
    "\n",
    "  ans = input(\"Continue? [Y/n]\")\n",
    "  if ans and ans.lower().startswith('n'):\n",
    "    break"
   ]
  },
  {
   "cell_type": "code",
   "execution_count": null,
   "metadata": {},
   "outputs": [],
   "source": []
  },
  {
   "cell_type": "code",
   "execution_count": null,
   "metadata": {},
   "outputs": [],
   "source": []
  }
 ],
 "metadata": {
  "kernelspec": {
   "display_name": "Python 3",
   "language": "python",
   "name": "python3"
  },
  "language_info": {
   "codemirror_mode": {
    "name": "ipython",
    "version": 3
   },
   "file_extension": ".py",
   "mimetype": "text/x-python",
   "name": "python",
   "nbconvert_exporter": "python",
   "pygments_lexer": "ipython3",
   "version": "3.8.5"
  }
 },
 "nbformat": 4,
 "nbformat_minor": 4
}
